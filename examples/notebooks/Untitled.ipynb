{
 "cells": [
  {
   "cell_type": "code",
   "execution_count": 2,
   "id": "3878c0b2-2140-4e90-a6b9-00c62c5d6332",
   "metadata": {},
   "outputs": [
    {
     "ename": "MethodError",
     "evalue": "MethodError: no method matching fieldnames(::epsGreedy)\n\u001b[0mClosest candidates are:\n\u001b[0m  fieldnames(\u001b[91m::Core.TypeofBottom\u001b[39m) at reflection.jl:179\n\u001b[0m  fieldnames(\u001b[91m::Type{var\"#s9\"} where var\"#s9\"<:Tuple\u001b[39m) at reflection.jl:181\n\u001b[0m  fieldnames(\u001b[91m::DataType\u001b[39m) at reflection.jl:176\n\u001b[0m  ...",
     "output_type": "error",
     "traceback": [
      "MethodError: no method matching fieldnames(::epsGreedy)\n\u001b[0mClosest candidates are:\n\u001b[0m  fieldnames(\u001b[91m::Core.TypeofBottom\u001b[39m) at reflection.jl:179\n\u001b[0m  fieldnames(\u001b[91m::Type{var\"#s9\"} where var\"#s9\"<:Tuple\u001b[39m) at reflection.jl:181\n\u001b[0m  fieldnames(\u001b[91m::DataType\u001b[39m) at reflection.jl:176\n\u001b[0m  ...",
      "",
      "Stacktrace:",
      "  [1] show(io::IOContext{IOBuffer}, #unused#::MIME{Symbol(\"text/plain\")}, agent::epsGreedy)",
      "    @ MAB.Algorithms ~/Work/code/MAB.jl/src/Algorithms/BanditAlgorithmBase.jl:58",
      "  [2] limitstringmime(mime::MIME{Symbol(\"text/plain\")}, x::epsGreedy)",
      "    @ IJulia ~/.julia/packages/IJulia/e8kqU/src/inline.jl:43",
      "  [3] display_mimestring(m::MIME{Symbol(\"text/plain\")}, x::epsGreedy)",
      "    @ IJulia ~/.julia/packages/IJulia/e8kqU/src/display.jl:71",
      "  [4] display_dict(x::epsGreedy)",
      "    @ IJulia ~/.julia/packages/IJulia/e8kqU/src/display.jl:102",
      "  [5] #invokelatest#2",
      "    @ ./essentials.jl:708 [inlined]",
      "  [6] invokelatest",
      "    @ ./essentials.jl:706 [inlined]",
      "  [7] execute_request(socket::ZMQ.Socket, msg::IJulia.Msg)",
      "    @ IJulia ~/.julia/packages/IJulia/e8kqU/src/execute_request.jl:112",
      "  [8] #invokelatest#2",
      "    @ ./essentials.jl:708 [inlined]",
      "  [9] invokelatest",
      "    @ ./essentials.jl:706 [inlined]",
      " [10] eventloop(socket::ZMQ.Socket)",
      "    @ IJulia ~/.julia/packages/IJulia/e8kqU/src/eventloop.jl:8",
      " [11] (::IJulia.var\"#15#18\")()",
      "    @ IJulia ./task.jl:411"
     ]
    }
   ],
   "source": [
    "using MAB\n",
    "using Statistics\n",
    "import PyPlot\n",
    "ENV[\"MPLBACKEND\"]=\"tkagg\"\n",
    "# Create 5 Bernoulli arms\n",
    "armRewards = [ 0.15, 0.20, 0.22, 0.65, 0.12 ]\n",
    "arms = []\n",
    "for p in armRewards\n",
    "    push!( arms, Arms.Bernoulli(p) )\n",
    "end\n",
    "\n",
    "# Initiate eps Greedy algorithms\n",
    "noOfArms = size( armRewards, 1 )\n",
    "alg11 = epsGreedy( noOfArms, 0.05 )\n",
    "alg12 = epsGreedy( noOfArms, 0.25 )\n",
    "alg13 = epsGreedy( noOfArms, 0.50 )\n",
    "alg14 = epsGreedy( noOfArms, 0.65 )\n",
    "# alg2  = UCB1( noOfArms )"
   ]
  },
  {
   "cell_type": "code",
   "execution_count": null,
   "id": "7df7f3b1-8eee-4c96-b21e-754249bdc430",
   "metadata": {},
   "outputs": [],
   "source": []
  }
 ],
 "metadata": {
  "kernelspec": {
   "display_name": "Julia 1.6.2",
   "language": "julia",
   "name": "julia-1.6"
  },
  "language_info": {
   "file_extension": ".jl",
   "mimetype": "application/julia",
   "name": "julia",
   "version": "1.6.2"
  }
 },
 "nbformat": 4,
 "nbformat_minor": 5
}
