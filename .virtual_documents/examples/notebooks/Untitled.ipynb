using MAB
using Statistics
import PyPlot
ENV["MPLBACKEND"]="tkagg"
# Create 5 Bernoulli arms
armRewards = [ 0.15, 0.20, 0.22, 0.65, 0.12 ]
arms = []
for p in armRewards
    push!( arms, Arms.Bernoulli(p) )
end

# Initiate eps Greedy algorithms
noOfArms = size( armRewards, 1 )
alg11 = epsGreedy( noOfArms, 0.05 )
alg12 = epsGreedy( noOfArms, 0.25 )
alg13 = epsGreedy( noOfArms, 0.50 )
alg14 = epsGreedy( noOfArms, 0.65 )
# alg2  = UCB1( noOfArms )



